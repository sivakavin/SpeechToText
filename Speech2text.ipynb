{
 "cells": [
  {
   "cell_type": "code",
   "execution_count": 1,
   "metadata": {},
   "outputs": [],
   "source": [
    "import speech_recognition as sr\n",
    "from textblob import TextBlob"
   ]
  },
  {
   "cell_type": "code",
   "execution_count": 26,
   "metadata": {},
   "outputs": [
    {
     "name": "stdout",
     "output_type": "stream",
     "text": [
      "Start Talking\n",
      "Your speech is converting as a text........\n",
      "good morning\n",
      "காலை வணக்கம்\n"
     ]
    }
   ],
   "source": [
    "r = sr.Recognizer()\n",
    "\n",
    "with sr.Microphone() as source:\n",
    "    print(\"Start Talking\")\n",
    "    audio_text = r.listen(source)\n",
    "    print(\"Your speech is converting as a text........\")\n",
    "    \n",
    "    try:\n",
    "        text = r.recognize_google(audio_text,language='en')\n",
    "        print(text)\n",
    "        #converting text file into native language\n",
    "        blob = TextBlob(text)\n",
    "        print(blob.translate(to='ta'))\n",
    "    except:\n",
    "        print(\"Something went wrong...try again\")"
   ]
  },
  {
   "cell_type": "code",
   "execution_count": 20,
   "metadata": {},
   "outputs": [],
   "source": [
    "## https://www.lfd.uci.edu/~gohlke/pythonlibs/#pyaudio  \n",
    "# To install the pyaudio"
   ]
  },
  {
   "cell_type": "code",
   "execution_count": null,
   "metadata": {},
   "outputs": [],
   "source": []
  }
 ],
 "metadata": {
  "kernelspec": {
   "display_name": "Python 3",
   "language": "python",
   "name": "python3"
  },
  "language_info": {
   "codemirror_mode": {
    "name": "ipython",
    "version": 3
   },
   "file_extension": ".py",
   "mimetype": "text/x-python",
   "name": "python",
   "nbconvert_exporter": "python",
   "pygments_lexer": "ipython3",
   "version": "3.8.5"
  }
 },
 "nbformat": 4,
 "nbformat_minor": 4
}
