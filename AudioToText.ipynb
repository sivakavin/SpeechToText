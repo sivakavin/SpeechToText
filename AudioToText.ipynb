{
 "cells": [
  {
   "cell_type": "markdown",
   "metadata": {},
   "source": [
    "### Audio Text convertion  and converting text file to our native language.\n",
    "\n",
    "We are going to use some external library to do this task.\n",
    "\n",
    "**STEP Going to follow :**\n",
    "\n",
    "1. Going to record voice using system in-build recorder \n",
    "\n",
    "\n",
    "2. Our module is recognize 'wav' format so converting audio file accordingly  <a href='https://cloudconvert.com/audio-converter'> Converter</a>\n",
    "\n",
    "\n",
    "3. Listening the audio speech regonizer audio function and storing in the variable\n",
    "\n",
    "\n",
    "4. first we are regonizing the audio and converting as text data.\n",
    "\n",
    "\n",
    "5. finally we are converting text file into our native language (Tamil,Telugu,Hindi,....n) using\n",
    "   Textblob module."
   ]
  },
  {
   "cell_type": "code",
   "execution_count": 10,
   "metadata": {},
   "outputs": [],
   "source": [
    "# library need to download if it is not aviable in our system\n",
    "\n",
    "# ! pip install SpeechRecognition - after install make line as comment\n",
    "\n",
    "# ! pip install textblob"
   ]
  },
  {
   "cell_type": "code",
   "execution_count": 11,
   "metadata": {},
   "outputs": [],
   "source": [
    "# importing required libreary\n",
    "import speech_recognition as sr\n",
    "from textblob import TextBlob"
   ]
  },
  {
   "cell_type": "code",
   "execution_count": 27,
   "metadata": {},
   "outputs": [
    {
     "name": "stdout",
     "output_type": "stream",
     "text": [
      "Converting audio transscript into text.........\n",
      "Your audio text is =\n",
      " DP case poison is required that every and aspirations of things they always wanted to but wasn't it didn't happen of money on the level of experience it's never the right time you never have to write experience in all the sun you wake up at 7:30 told you that I do not want this life and I don't want to go to writing\n",
      "\n",
      " Native language text \n",
      " டிபி கேஸ் விஷம் தேவைப்படுகிறது, அவர்கள் எப்போதும் விரும்பிய விஷயங்களின் ஒவ்வொரு மற்றும் அபிலாஷைகளும் அனுபவத்தின் மட்டத்தில் பணம் நடக்கவில்லை, இது ஒருபோதும் சரியான நேரமல்ல, நீங்கள் எழுந்திருக்கும் அனைத்து சூரியனிலும் அனுபவத்தை எழுத வேண்டியதில்லை. 7:30 உங்களிடம் சொன்னேன், எனக்கு இந்த வாழ்க்கை தேவையில்லை, நான் எழுத்திற்கு செல்ல விரும்பவில்லை\n"
     ]
    }
   ],
   "source": [
    "# Initialize the reconizer class \n",
    "r = sr.Recognizer()\n",
    "\n",
    "# Reading audio file as source\n",
    "# listening the audio file and store in the audio_text variable\n",
    "# with keyword used clean up operation instance.\n",
    "\n",
    "with sr.AudioFile('file.wav') as source:\n",
    "    audio_text = r.listen(source,timeout=2)\n",
    "    \n",
    "    # Due to below reason below code will raise exception to handle that we are using try except block\n",
    "    # audio file correcpted ,audio is not clear,internet connection issue.\n",
    "    try:    \n",
    "        # Speech to Text\n",
    "        text  = r.recognize_google(audio_text)  # This google API is required internet to recognize the speech\n",
    "        print(\"Converting audio transscript into text.........\")\n",
    "        print(\"Your audio text is =\\n\",text)\n",
    "        \n",
    "        # Text to Native language\n",
    "        blop = TextBlob(text)\n",
    "        your_lang = blop.translate(to='ta')\n",
    "        print(\"\\n Native language text \\n\",your_lang)\n",
    "        \n",
    "    except:\n",
    "        print(\"run again... Something went wrong...\")\n"
   ]
  },
  {
   "cell_type": "code",
   "execution_count": null,
   "metadata": {},
   "outputs": [],
   "source": []
  }
 ],
 "metadata": {
  "kernelspec": {
   "display_name": "Python 3",
   "language": "python",
   "name": "python3"
  },
  "language_info": {
   "codemirror_mode": {
    "name": "ipython",
    "version": 3
   },
   "file_extension": ".py",
   "mimetype": "text/x-python",
   "name": "python",
   "nbconvert_exporter": "python",
   "pygments_lexer": "ipython3",
   "version": "3.8.5"
  }
 },
 "nbformat": 4,
 "nbformat_minor": 4
}
